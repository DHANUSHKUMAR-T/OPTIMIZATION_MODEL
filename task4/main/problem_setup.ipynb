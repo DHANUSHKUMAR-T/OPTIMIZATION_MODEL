{
 "cells": [
  {
   "cell_type": "markdown",
   "id": "42af0e31",
   "metadata": {},
   "source": [
    "# Optimization Problem Setup\n",
    "This notebook sets up and solves a simple linear programming problem using PuLP."
   ]
  },
  {
   "cell_type": "code",
   "execution_count": 4,
   "id": "7f3413d8",
   "metadata": {},
   "outputs": [
    {
     "name": "stdout",
     "output_type": "stream",
     "text": [
      "X1: 10.0\n",
      "X2: 10.0\n",
      "Z: 350.0\n"
     ]
    }
   ],
   "source": [
    "\n",
    "import pulp\n",
    "\n",
    "# Define the problem\n",
    "model = pulp.LpProblem(\"Maximize_Profit\", pulp.LpMaximize)\n",
    "\n",
    "# Define variables\n",
    "x1 = pulp.LpVariable(\"Product_A\", lowBound=0, cat=\"Continuous\")\n",
    "x2 = pulp.LpVariable(\"Product_B\", lowBound=0, cat=\"Continuous\")\n",
    "\n",
    "# Coefficients\n",
    "profit_A = 20\n",
    "profit_B = 15\n",
    "labor_A = 2\n",
    "labor_B = 3\n",
    "material_A = 3\n",
    "material_B = 2\n",
    "labor_limit = 50\n",
    "material_limit = 50\n",
    "\n",
    "# Objective Function\n",
    "model += profit_A * x1 + profit_B * x2, \"Total_Profit\"\n",
    "\n",
    "# Constraints\n",
    "model += labor_A * x1 + labor_B * x2 <= labor_limit, \"Labor_Constraint\"\n",
    "model += material_A * x1 + material_B * x2 <= material_limit, \"Material_Constraint\"\n",
    "\n",
    "# Solve\n",
    "model.solve(pulp.PULP_CBC_CMD(msg=False))\n",
    "\n",
    "# Display results\n",
    "print(\"X1:\",x1.varValue)\n",
    "print(\"X2:\",x2.varValue)\n",
    "print(\"Z:\",pulp.value(model.objective))\n"
   ]
  }
 ],
 "metadata": {
  "kernelspec": {
   "display_name": "Python 3",
   "language": "python",
   "name": "python3"
  },
  "language_info": {
   "codemirror_mode": {
    "name": "ipython",
    "version": 3
   },
   "file_extension": ".py",
   "mimetype": "text/x-python",
   "name": "python",
   "nbconvert_exporter": "python",
   "pygments_lexer": "ipython3",
   "version": "3.12.1"
  }
 },
 "nbformat": 4,
 "nbformat_minor": 5
}
