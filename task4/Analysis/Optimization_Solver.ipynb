{
 "cells": [
  {
   "cell_type": "code",
   "execution_count": 3,
   "id": "c1a2beab",
   "metadata": {},
   "outputs": [],
   "source": [
    "import pulp"
   ]
  },
  {
   "cell_type": "code",
   "execution_count": 4,
   "id": "d059eecc",
   "metadata": {},
   "outputs": [],
   "source": [
    "# Define the problem\n",
    "prob = pulp.LpProblem(\"Maximize_Profit\", pulp.LpMaximize)"
   ]
  },
  {
   "cell_type": "code",
   "execution_count": 5,
   "id": "2b9e6d57",
   "metadata": {},
   "outputs": [],
   "source": [
    "# Define Decision Variables\n",
    "product_A = pulp.LpVariable(\"Product_A\", lowBound=0, cat=\"Continuous\")\n",
    "product_B = pulp.LpVariable(\"Product_B\", lowBound=0, cat=\"Continuous\")"
   ]
  },
  {
   "cell_type": "code",
   "execution_count": 6,
   "id": "0b991c86",
   "metadata": {},
   "outputs": [],
   "source": [
    "# Define Coefficients\n",
    "profit_A = 50\n",
    "profit_B = 40\n",
    "labor_A = 2\n",
    "labor_B = 3\n",
    "material_A = 3\n",
    "material_B = 2\n",
    "total_labor = 100\n",
    "total_material = 90"
   ]
  },
  {
   "cell_type": "code",
   "execution_count": 7,
   "id": "885fa28c",
   "metadata": {},
   "outputs": [],
   "source": [
    "# Objective Function\n",
    "prob += profit_A * product_A + profit_B * product_B, \"Total_Profit\""
   ]
  },
  {
   "cell_type": "code",
   "execution_count": 8,
   "id": "4f428d58",
   "metadata": {},
   "outputs": [],
   "source": [
    "# Constraints\n",
    "prob += labor_A * product_A + labor_B * product_B <= total_labor, \"Labor_Constraint\"\n",
    "prob += material_A * product_A + material_B * product_B <= total_material, \"Material_Constraint\""
   ]
  },
  {
   "cell_type": "code",
   "execution_count": 9,
   "id": "a0930df4",
   "metadata": {},
   "outputs": [
    {
     "data": {
      "text/plain": [
       "1"
      ]
     },
     "execution_count": 9,
     "metadata": {},
     "output_type": "execute_result"
    }
   ],
   "source": [
    "# Solve the problem\n",
    "prob.solve()"
   ]
  },
  {
   "cell_type": "code",
   "execution_count": 10,
   "id": "07f9d2d7",
   "metadata": {},
   "outputs": [],
   "source": [
    "# Display results\n",
    "opt_product_A = product_A.varValue\n",
    "opt_product_B = product_B.varValue\n",
    "total_profit = pulp.value(prob.objective)"
   ]
  },
  {
   "cell_type": "code",
   "execution_count": 11,
   "id": "4e7a80b8",
   "metadata": {},
   "outputs": [
    {
     "name": "stdout",
     "output_type": "stream",
     "text": [
      "Optimal Production of Product A: 14.0\n",
      "Optimal Production of Product B: 24.0\n",
      "Total Maximum Profit: $1660.0\n"
     ]
    }
   ],
   "source": [
    "print(f\"Optimal Production of Product A: {opt_product_A}\")\n",
    "print(f\"Optimal Production of Product B: {opt_product_B}\")\n",
    "print(f\"Total Maximum Profit: ${total_profit}\")"
   ]
  }
 ],
 "metadata": {
  "kernelspec": {
   "display_name": "Python 3",
   "language": "python",
   "name": "python3"
  },
  "language_info": {
   "codemirror_mode": {
    "name": "ipython",
    "version": 3
   },
   "file_extension": ".py",
   "mimetype": "text/x-python",
   "name": "python",
   "nbconvert_exporter": "python",
   "pygments_lexer": "ipython3",
   "version": "3.12.1"
  }
 },
 "nbformat": 4,
 "nbformat_minor": 5
}
